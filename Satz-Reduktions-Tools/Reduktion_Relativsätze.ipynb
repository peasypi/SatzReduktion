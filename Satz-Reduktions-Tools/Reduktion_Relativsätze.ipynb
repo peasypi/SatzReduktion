{
 "cells": [
  {
   "cell_type": "code",
   "execution_count": 128,
   "metadata": {},
   "outputs": [],
   "source": [
    "# import des Flair Packages\n",
    "from flair.data import Sentence \n",
    "from flair.models import SequenceTagger\n",
    "import re"
   ]
  },
  {
   "cell_type": "markdown",
   "metadata": {},
   "source": [
    "# Ersetzung von Relativsätzen - Versuch"
   ]
  },
  {
   "cell_type": "code",
   "execution_count": 129,
   "metadata": {},
   "outputs": [],
   "source": [
    "text = 'Die als Bank der Schwindler und Kriminellen in Verruf geratene Bank of Credit and Commerce International (BCCI) hat für ihre Spitzenmanager eine Art geheime Tochter unterhalten und Kredite an Personen gegeben, die es gar nicht gab.'"
   ]
  },
  {
   "cell_type": "markdown",
   "metadata": {},
   "source": [
    "## PoS-Tagging mit Flair"
   ]
  },
  {
   "cell_type": "code",
   "execution_count": 130,
   "metadata": {
    "scrolled": true
   },
   "outputs": [],
   "source": [
    "# load model\n",
    "tagger = SequenceTagger.load('de-pos')\n",
    "\n",
    "# make German sentence\n",
    "sentence = Sentence(text, use_tokenizer = True)\n",
    "# predict NER tags\n",
    "tagger.predict(sentence)\n",
    "\n",
    "# print sentence with predicted tags\n",
    "text = sentence.to_tagged_string()"
   ]
  },
  {
   "cell_type": "markdown",
   "metadata": {},
   "source": [
    "### Liste der möglichen Tags"
   ]
  },
  {
   "cell_type": "markdown",
   "metadata": {},
   "source": [
    "    ADJ: adjective\n",
    "    ADP: adposition\n",
    "    ADV: adverb\n",
    "    AUX: auxiliary\n",
    "    CCONJ: coordinating conjunction\n",
    "    DET: determiner\n",
    "    INTJ: interjection\n",
    "    NOUN: noun\n",
    "    NUM: numeral\n",
    "    PART: particle\n",
    "    PRON: pronoun\n",
    "    PROPN: proper noun\n",
    "    PUNCT: punctuation\n",
    "    SCONJ: subordinating conjunction\n",
    "    SYM: symbol\n",
    "    VERB: verb\n",
    "    X: other"
   ]
  },
  {
   "cell_type": "markdown",
   "metadata": {},
   "source": [
    "## Ersetzung der Relativsätze"
   ]
  },
  {
   "cell_type": "code",
   "execution_count": 131,
   "metadata": {},
   "outputs": [],
   "source": [
    "text1 = re.sub(r\",\\s<PUNCT>\\s(die|der|das|den|dem|deren|dessen|welcher|welches|welche|welchem|welchen|was|wenn|wenn|wo|wohin|woher|mit|auf)(\\s<\\w{1,5}>)(\\s\\b\\w*\\b\\s<\\w{1,5}>)*\\s\\w*\\s(<AUX>|<VERB>)\\s(\\,\\s)?\", \"\", text)"
   ]
  },
  {
   "cell_type": "markdown",
   "metadata": {},
   "source": [
    "## Löschen der restlichen Tags"
   ]
  },
  {
   "cell_type": "code",
   "execution_count": 132,
   "metadata": {},
   "outputs": [],
   "source": [
    "text2 = re.sub(r\"<\\w{1,5}>\\s?\", \"\", text1)\n"
   ]
  },
  {
   "cell_type": "markdown",
   "metadata": {},
   "source": [
    "## Löschen der Leerzeichen vor dem Satzende"
   ]
  },
  {
   "cell_type": "code",
   "execution_count": 133,
   "metadata": {},
   "outputs": [],
   "source": [
    "text3 = re.sub(r\"(\\s\\.)\", \".\", text2 )"
   ]
  },
  {
   "cell_type": "markdown",
   "metadata": {},
   "source": [
    "## Ausprinten der reduzierten Sätze"
   ]
  },
  {
   "cell_type": "code",
   "execution_count": 134,
   "metadata": {
    "scrolled": true
   },
   "outputs": [
    {
     "name": "stdout",
     "output_type": "stream",
     "text": [
      "Die als Bank der Schwindler und Kriminellen in Verruf geratene Bank of Credit and Commerce International ( BCCI ) hat für ihre Spitzenmanager eine Art geheime Tochter unterhalten und Kredite an Personen gegeben. \n"
     ]
    }
   ],
   "source": [
    "print(text3)"
   ]
  }
 ],
 "metadata": {
  "kernelspec": {
   "display_name": "Python 3",
   "language": "python",
   "name": "python3"
  },
  "language_info": {
   "codemirror_mode": {
    "name": "ipython",
    "version": 3
   },
   "file_extension": ".py",
   "mimetype": "text/x-python",
   "name": "python",
   "nbconvert_exporter": "python",
   "pygments_lexer": "ipython3",
   "version": "3.6.7"
  }
 },
 "nbformat": 4,
 "nbformat_minor": 2
}
