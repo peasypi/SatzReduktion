{
 "cells": [
  {
   "cell_type": "code",
   "execution_count": null,
   "metadata": {},
   "outputs": [],
   "source": [
    "import re\n",
    "\n",
    "text = \"\"\"Pia hat am 16. September Geburtstag. Nils liebt es montags früh auszustehen. Unsere Soziologie-Vorlesung ist jeden Donnerstag um 11 Uhr. Michael liebt Freitage.\"\"\"\n",
    "# Temporale Präpositionen\n",
    "\n",
    "# ersetzt Zeitpunkte mit Am/An Tage, Datum, Tageszeiten und Feiertage\n",
    "text = re.sub(r\"((Am|An|am|an)\\s(\\b\\w*\\b\\s)*((\\d{1,2}\\.(\\d{1,2}|\\s(Januar|Februar|März|April|Mai|Juni|Juli|August|September|Oktober|November|Dezember))((\\.|\\s)?\\d{0,4}))|(Montag|Dienstag|Mittwoch|Donnerstag|Freitag|Samstag|Sonntag)|(Morgen|Mittag|Abend|Nacht|Vormittag|Nachmittag)|(Weihachten|Ostern|Muttertag|Pfingsten|Buß- und Bettag|Neujahr|Tag der deutschen Einheit|Tag der Arbeit|Christi Himmelfahrt)))\", \"Irgendwann\", text)\n",
    "\n",
    "# ersetzt Zeitpunkte mit Im/In\n",
    "text = re.sub(r\"(Im|In|im|in)\\s(\\b\\w*\\b\\s)*((\\d{2}er)|(Wochen)|(Zeit)|(Januar|Februar|März|April|Mai|Juni|Juli|August|September|Oktober|November|Dezember)|(Frühling|Sommer|Herbst|Winter))\", \"Irgendwann\", text)\n",
    "\n",
    "# ersetzt Zeitpunkt Uhrzeit oder Jahreszahl mit Um\n",
    "text = re.sub(r\"(Um|um|Punkt|punkt)\\s(\\d{1,4}|\\d{1,2}(:|\\.|)(\\d{1,2})?)+\\s(Uhr)?\", \"Irgendwann\", text)\n",
    "\n",
    "# ersetzt Zeitpunkt mit Vor + Dativ\n",
    "text = re.sub(r\"(Vor|vor)\\s(dem|den)\\s(\\w+\\b)*\", \"Irgendwann\", text)\n",
    "\n",
    "# ersetzt Jahreszahlen\n",
    "text = re.sub(r\"(\\d{4})\", \"Irgendwann\", text)\n",
    "\n",
    "# Temporale Adverbien\n",
    "text = re.sub(r\"(montags|dienstags|mittwochs|donnerstags|freitags|samstags|sonntags)\",\"Irgendwann\", text)\n",
    "\n",
    "print(text)"
   ]
  },
  {
   "cell_type": "code",
   "execution_count": null,
   "metadata": {},
   "outputs": [],
   "source": []
  }
 ],
 "metadata": {
  "kernelspec": {
   "display_name": "Python 3",
   "language": "python",
   "name": "python3"
  },
  "language_info": {
   "codemirror_mode": {
    "name": "ipython",
    "version": 3
   },
   "file_extension": ".py",
   "mimetype": "text/x-python",
   "name": "python",
   "nbconvert_exporter": "python",
   "pygments_lexer": "ipython3",
   "version": "3.7.1"
  }
 },
 "nbformat": 4,
 "nbformat_minor": 2
}
