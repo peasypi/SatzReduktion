{
 "cells": [
  {
   "cell_type": "markdown",
   "metadata": {},
   "source": [
    "# Satzreduktion - Programm\n"
   ]
  },
  {
   "cell_type": "markdown",
   "metadata": {},
   "source": [
    "## Was das Programm können muss:<br />\n",
    "1. Importieren aller notwendigen Libraries\n",
    "2. Einlesen eines Textes und Konvertieren des Textes in ein String\n",
    "3. NER Tool über den Text laufen lassen\n",
    "4. Umwandeln der erstellten Ersetzungsregeln in einzelne Funktionen\n",
    "5. Anwenden der Regel-Funktionen am NER-Getaggten Text (eigentliche Satzreduktion)\n",
    "6. Ausgabe des Textes in eine eigene Datei"
   ]
  },
  {
   "cell_type": "markdown",
   "metadata": {},
   "source": [
    "### 1. Import Libraries"
   ]
  },
  {
   "cell_type": "code",
   "execution_count": 46,
   "metadata": {},
   "outputs": [],
   "source": [
    "from flair.data import Sentence\n",
    "from flair.models import SequenceTagger\n",
    "import re"
   ]
  },
  {
   "cell_type": "markdown",
   "metadata": {},
   "source": [
    "### 2. Einlesen eines Textes und Konvertieren des Textes in ein String"
   ]
  },
  {
   "cell_type": "code",
   "execution_count": 61,
   "metadata": {},
   "outputs": [],
   "source": [
    "# convert text file into String\n",
    "with open('/Users/Nils/Projekte/Satz-Reduktion/GIT/Datensatz/new.txt',\"r\") as myfile:\n",
    "  data = myfile.read().replace('\\n',' ')"
   ]
  },
  {
   "cell_type": "markdown",
   "metadata": {},
   "source": [
    "### 3. NER Tool über den Text laufen lassen"
   ]
  },
  {
   "cell_type": "markdown",
   "metadata": {},
   "source": [
    "Vielleicht besser die Sätze einzeln aufzuteilen und jeweils in eine Liste speichern?"
   ]
  },
  {
   "cell_type": "code",
   "execution_count": 62,
   "metadata": {
    "scrolled": true
   },
   "outputs": [
    {
     "name": "stdout",
     "output_type": "stream",
     "text": [
      "Sie pfiffen. Theresa <B-PER> May <E-PER> hat gerade im Unterhaus den Backstop erklärt, jenen Teil des britischen EU-Austrittsabkommens, der die politische Sprengkraft besitzt, einen geordneten Brexit zu verhindern. Einige Abgeordneten standen daraufhin auf, machten ihrem Unmut lautstark Luft. Welches Wort hat sie so aufgewühlt? Es war nicht der von ihnen abgelehnte Backstop, der vorsieht, dass Großbritannien <S-LOC> so lang in einer Zollunion mit der EU verbleiben muss, bis ein neues Handelsabkommen samt Garantie für eine offene Grenze zwischen Nordirland <S-LOC> und der Republik vereinbart ist. Es war das Wort „souverän“. Irland, <S-LOC> so hat Theresa <B-PER> May <E-PER> nämlich betont, sei ein souveräner Staat, der von London <S-LOC> als verbleibender Teil der EU respektiert werden müsse. Die Pfiffe lassen erahnen, dass sich diese Abgeordneten nicht nur das Empire zurückwünschen, sondern auch die Eigenständigkeit Irlands <S-LOC> infrage stellen. Für sie zählt die Grüne Insel noch immer zum natürlichen Einflussgebiet des britischen Königreichs, obwohl ihr größerer Teil seit knapp hundert Jahren unabhängig ist. In der Irland-Frage kristallisiert sich also nicht nur das technische Problem des britischen EU-Austritts heraus. Mit ihr wird auch die emotionale und politische Problematik der britischen Debatte offenbar. Von einer unverantwortlichen Überheblichkeit getrieben, schwebt den Brexit-Hardlinern eine Zukunft vor, in der ihr Land ohne Rücksichtnahme auf andere weltweit agieren kann. Diese etwas naive Vorstellung schließt bilaterale Handelsverträge ein, die London <S-LOC> mit allen wichtigen Drittstaaten schließt und die nur noch einseitig Milch und Honig fließen lassen. So eine öffentlich verbreitete Illusion ist mittlerweile kein Einzelphänomen. Von Donald <B-PER> Trump <E-PER> bis Viktor <B-PER> Orbán <E-PER> sind zahlreiche politische Führer davon überzeugt, dass nationale Interessen mit Brachialgewalt gegen alle anderen durchgesetzt werden müssen. Sie glauben an ein ökonomisches Nullsummenspiel, in dem sie nur dann gewinnen, wenn andere verlieren. Sie verabschieden sich von multilateralen Verträgen, die allen Seiten Vorteile gebracht haben. In ihrer Kalkulation negieren sie zum einen, dass viele Herausforderungen nur noch grenzüberschreitend in einer Staatengemeinschaft gelöst werden können – vom Klimaschutz über den fairen Handel bis hin zur Sicherheit. Sie blenden zum anderen auch die Gefahr aus, dass mit dieser Interessenpolitik lediglich neue Konfliktherde geschaffen werden. Wird das Karfreitagsabkommen aus dem Jahr 1998, das nach 3600 Todesopfern den Bürgerkrieg in Nordirland <S-LOC> beendet hat, durch die Sturheit der Brexit-Hardliner und der in Folge notwendig werdenden Grenzkontrollen von britischer Seite aufgehoben, sind neue blutige Auseinandersetzungen durchaus wahrscheinlich. Beispielhaft für ganz Europa <S-LOC> würde hier erneut aufgezeigt, wie kurz der Weg von einer rein nationalistischen Politik zu neuen blutigen Differenzen ist. Großbritannien <S-LOC> soll, wenn es das wirklich möchte, aus der EU austreten. Niemand hat das Recht, es daran zu hindern. Aber es muss vonseiten der 27 verbleibenden EU-Mitglieder sichergestellt werden, dass dieser Brexit ohne neue zwischenstaatliche Konflikte und ohne das Provozieren eines neuen Bürgerkriegs abgewickelt wird. Hätten die pfeifenden Abgeordneten im Unterhaus ein wenig historisches Gespür, würden sie sich darauf besinnen, dass ein solcher Konflikt dazu führen könnte, dass Großbritannien <S-LOC> letztlich auch noch den Norden Irlands <S-LOC> verlieren könnte. Denn wer glaubt, dass sich äußere Konfliktlinien nicht im Inneren fortsetzen, hat einen Teil der europäischen Geschichte nicht verstanden. „Wir sind im Moment alle Iren“, sagte der belgische Außenminister, Didier <B-PER> Reynders, <E-PER> vergangene Woche bei einem Treffen mit Amtskollegen in Brüssel. <S-LOC> Seine Äußerung war nicht bloß als Solidaritätsbekundung gemeint. Es liegt vielmehr in der Verantwortung aller restlichen EU-Regierungen, London, <S-LOC> Dublin <S-LOC> und Belfast <S-LOC> von den absehbaren Gefahren eines ungeordneten Brexit zu bewahren. E-Mails an: wolfgang.boehm@diepresse.com (\"Die Presse\", Print-Ausgabe, 26.01.2019)\n"
     ]
    }
   ],
   "source": [
    "# make a sentence\n",
    "sentence = Sentence(data)\n",
    "\n",
    "#load the NER tagger\n",
    "tagger = SequenceTagger.load('de-ner')\n",
    "\n",
    "#run NER over sentence\n",
    "tagger.predict(sentence)\n",
    "\n",
    "#save tagged sentence into a String\n",
    "tagged = sentence.to_tagged_string()\n",
    "\n",
    "print(tagged)\n"
   ]
  },
  {
   "cell_type": "markdown",
   "metadata": {},
   "source": [
    "### 4. Umwandeln der erstellten Ersetzungsregeln in einzelne Funktionen"
   ]
  },
  {
   "cell_type": "markdown",
   "metadata": {},
   "source": [
    "#### Zeitersetzung"
   ]
  },
  {
   "cell_type": "code",
   "execution_count": 63,
   "metadata": {},
   "outputs": [],
   "source": [
    "def zeit(text):\n",
    "    # ersetzt Zeitpunkte mit Am/An Tage, Datum, Tageszeiten und Feiertage\n",
    "    text = re.sub(r\"(\\b(Am|An|am|an)\\b)\\s(\\b(\\w|ä|ö|ü)*\\b\\s)?((\\d{1,2}\\.(\\d{1,2}|(|\\s)(Januar|Februar|März|April|Mai|Juni|Juli|August|September|Oktober|November|Dezember))((\\s|\\.)?\\d{0,4}))(\\.|\\s)|(Montag|Dienstag|Mittwoch|Donnerstag|Freitag|Samstag|Sonntag|Sonnabend|Wochenende(n)?|Wochen(anfang|anfängen)?)(morgen|mittag|abend|nacht|vormittag|nachmittag)?(\\.|\\s)|(Morgen|Mittag|Abend|Nacht|Vormittag|Nachmittag)\\s|(Weihachten|Jahresende|Ostern|Muttertag|Pfingsten|Buß- und Bettag|Neujahr|Tag der Deutschen Einheit|Tag der Arbeit|Christi Himmelfahrt|Dreikönigstag|Karfreitag|\\w*tag|Tag(en)?)(\\.|\\s))\", \"IRGENDWANN \", text)\n",
    "    \n",
    "    # ersetzt Zeitpunkte mit Im/In\n",
    "    text = re.sub(r\"(\\b(Im|In|im|in)\\b)\\s(\\b\\w*\\b\\s)*((\\d{2}er)|(Wochen)|(Zeit)|(Januar|Februar|März|April|Mai|Juni|Juli|August|September|Oktober|November|Dezember)|(Frühling|Sommer|Herbst|Winter|Frühjahr))(\\s\\d{1,4})?(\\s|\\.)\", \"IRGENDWANN \", text)\n",
    "\n",
    "    # ersetzt Zeitpunkt Uhrzeit oder Jahreszahl mit Um\n",
    "    text = re.sub(r\"(\\b(Um|um|Punkt|punkt)\\b)\\s(\\d{1,4}|(\\d{1,2}|(eins|zwei|drei|vier|fünf|sechs|sieben|acht|neun|zehn|elf|zwölf))(:|h|\\.)(\\s)?(\\d{1,2})?)+\\s(Uhr)?\", \"IRGENDWANN \", text)\n",
    "\n",
    "    # ersetzt Zeitpunkt mit Vor + Dativ\n",
    "    #text = re.sub(r\"(Vor|vor)\\s(dem|den)\\s(\\w+\\b)*\", \"IRGENDWANN \", text)\n",
    "    \n",
    "    # ersetzt Zeitpunkt mit ab\n",
    "    text = re.sub(r\"(\\b(Ab|ab)\\b)\\s((\\d{1,2})?(\\.)?(\\s)?(Januar|Februar|März|April|Mai|Juni|Juli|August|September|Oktober|November|Dezember)\\ (\\d{1,4}\\s)?|(\\b\\w*\\b\\s)*(Frühling|Sommer|Herbst|Winter|Jahre)\\s|(\\d{4}\\/\\d{4}\\s)|(Jahre\\s|((\\d{1,2}(:|\\.)?(\\s)?(\\d{1,2})?)+\\s(Uhr\\s)?)))\",\"IRGENDWANN \", text)\n",
    "\n",
    "    # ersetzt Zeitpunkte die mit \"Anfang ...\" eingeleitet werden\n",
    "    text = re.sub(r\"(\\b(Anfang|anfang)\\b)(\\s\\b\\w+\\b\\s)?(\\s(Januar|Februar|März|April|Mai|Juni|Juli|August|September|Oktober|November|Dezember)|((\\d{2}er-|\\w+)?(|\\s)(Jahre(s)?|Woche)))\\s\", \"IRGENDWANN \", text)\n",
    "    \n",
    "    \n",
    "    # Temporale Adverbien\n",
    "    text = re.sub(r\"\\b(montags|dienstags|mittwochs|donnerstags|freitags|samstags|sonntags|abends|mittags|morgens|nachts)\\b\",\"IRGENDWANN \", text)\n",
    "    \n",
    "    # ersetzt Jahreszahlen und Daten die wie folgt aussehen dd.mm.yyyy|dd.mm.yy\n",
    "    text = re.sub(r\"((Von|von)\\s)?\\d{4}|\\d{2}\\.\\d{2}\\.\\d{2,4}\", \"IRGENDWANN \", text)\n",
    "    \n",
    "    # jeden Abend ?\n",
    "    # um/in acht () zahl klein geschrieben\n",
    "    # \\d{4} - Jahreszahlen?\n",
    "    # gestern\n",
    "    # 24.08.2000\n",
    "    # von 1989\n",
    "    #Um 13h05\n",
    "    \n",
    "    return text"
   ]
  },
  {
   "cell_type": "markdown",
   "metadata": {},
   "source": [
    "#### Ersetzung der NER Tags"
   ]
  },
  {
   "cell_type": "code",
   "execution_count": 64,
   "metadata": {},
   "outputs": [],
   "source": [
    "##\n",
    "# Die folgenden Methoden sollen Named Entities eines getaggten Textes mit Reduktionswörtern austauschen. \n",
    "# Die getaggten Wörter, die ausgetauscht werden, sind: Organization, Person und Location \n",
    "##\n",
    "\n",
    "##\n",
    "# Die Funktion replaceNER(X) liest eine getaggte Datei ein, macht aus ihr eine Liste bestehend aus Strings, \n",
    "# ruft die jeweiligen Ersetzungs-Funktionen auf und fängt den 'letzten' Ersetzungsfall auf,\n",
    "# abschließend wird der ersetzte Text in eine neue Datei geschrieben\n",
    "# @param X Die einzulesende txt-Datei\n",
    "def replaceNER(data):\n",
    "\n",
    "    \n",
    "            count = 0\n",
    "            words = data.split()\n",
    "            \n",
    "        \n",
    "            toReplace(\"IRGENDWO\",praelist_irgendwo,count,words)\n",
    "            toReplace(\"IRGENDWOHIN\",praelist_irgendwohin,count,words)\n",
    "            toReplace(\"IRGENDWOHER\",praelist_irgendwoher,count,words)\n",
    "            toReplace(\"IRGENEINE ORGANISATION\",praelist_irgendeine,count,words)\n",
    "            toReplace(\"IRGENEINER ORGANISATION\",praelist_irgendeiner,count,words)\n",
    "            toReplace(\"IRGENDWEM\",praelist_irgendwem,count,words)\n",
    "            toReplace(\"IRGENWEN\",praelist_irgendwen,count,words)\n",
    "            toReplace(\"IRGENDWER\",praelist_irgendwer,count,words)\n",
    "            \n",
    "            for i in words:\n",
    "            \n",
    "                if '<S-LOC>' in words[count]:\n",
    "                    words[count-1] = \"IRGENDWO(HIN)/(HER)\"\n",
    "                    words[count] = \"Reset\"\n",
    "                    if words[count-2] in artikel:\n",
    "                        words[count-2] = \"Reset\"\n",
    "                elif '<B-LOC>' in words[count]:\n",
    "                    words[count-1] = \"IRGENDWO(HIN)/(HER)\"\n",
    "                    words[count] = \"Reset\"\n",
    "                    if words[count-2] in artikel:\n",
    "                        words[count-2] = \"Reset\"\n",
    "                elif '<S-ORG>' in words[count]:\n",
    "                    words[count-1] = \"IRGENDEINE/R ORGANISATION\"\n",
    "                    words[count] = \"Reset\"\n",
    "                    if words[count-2] in artikel:\n",
    "                        words[count-2] = \"Reset\"\n",
    "                elif '<B-ORG>' in words[count]:\n",
    "                    words[count-1] = \"IRGENDEINE/R ORGANISATION\"\n",
    "                    words[count] = \"Reset\"\n",
    "                    if words[count-2] in artikel:\n",
    "                        words[count-2] = \"Reset\"\n",
    "                elif '<S-PER>' in words[count]:\n",
    "                    words[count-1] = \"IRGENDWER\"\n",
    "                    words[count] = \"Reset\"\n",
    "                    if words[count-2] in artikel:\n",
    "                        words[count-2] = \"Reset\"\n",
    "                elif '<B-PER>' in words[count]:\n",
    "                    words[count-1] = \"IRGENDWER\"\n",
    "                    words[count] = \"Reset\"\n",
    "                    if words[count-2] in artikel:\n",
    "                        words[count-2] = \"Reset\"\n",
    "                \n",
    "                count +=1\n",
    "\n",
    "            count = 0\n",
    "            text = []\n",
    "            for i in words:\n",
    "                if \"Reset\" not in words[count]:\n",
    "                    text.append(words[count])\n",
    "                    text.append(' ')\n",
    "                count += 1\n",
    "                text = ''.join(text)\n",
    "        \n",
    "            return text\n",
    "##\n",
    "# Die Funktion toReplace(ersetzung, praeposition, count, words) geht den getaggten Text Wort für Wort durch und                \n",
    "# ruft, abhängig vom gefundenen Tag, die jeweilige Funktion zum Ersetzen auf\n",
    "# wird kein Tag gefunden, wird der Count um 1 erhöht \n",
    "# wird ein I- oder E-Tag gefunden (Inside, End), wird das getaggte Wort auf \"Reset\" gesetzt \n",
    "# \n",
    "# @param ersetzung String: Das Wort, mit dem ersetzt werden soll (z.B. \"irgendwo\")\n",
    "# @param praeposition Liste von Präpositionen, die jeweils einem Ersetzungswort zugeordnet werden kann \n",
    "# @param count Zähler (int), der anzeigt, an welcher Stelle im Text (words) sich die Iteration befindet\n",
    "# @param words Getaggter Text als Liste \n",
    "\n",
    "def toReplace(ersetzung,praeposition,count,words):\n",
    "    \n",
    "    for i in words: \n",
    "        if '<S-LOC>' in words[count]:\n",
    "            replaceLOC(ersetzung,praeposition,words,count) \n",
    "            count += 1\n",
    "            continue\n",
    "        elif '<B-LOC>' in words[count]:\n",
    "            replaceLOC(ersetzung,praeposition,words,count)\n",
    "            count += 1\n",
    "            continue\n",
    "        elif '<S-ORG>' in words[count]:\n",
    "            replaceORGPER(ersetzung,praeposition,words,count)\n",
    "            count += 1\n",
    "            continue\n",
    "        elif '<B-ORG>' in words[count]:\n",
    "            replaceORGPER(ersetzung,praeposition,words,count)\n",
    "            count += 1\n",
    "            continue\n",
    "        elif '<S-PER>' in words [count]:\n",
    "            replaceORGPER(ersetzung,praeposition,words,count)\n",
    "            count += 1\n",
    "            continue\n",
    "        elif '<B-PER>' in words[count]:\n",
    "            replaceORGPER(ersetzung,praeposition,words,count)\n",
    "            count += 1\n",
    "            continue\n",
    "        elif '<I-PER>' in words[count]:\n",
    "            words[count] = \"Reset\"\n",
    "            words[count-1] = \"Reset\"\n",
    "            count += 1\n",
    "            continue\n",
    "        elif '<E-PER>' in words[count]:\n",
    "            words[count] = \"Reset\"\n",
    "            words[count-1] = \"Reset\"\n",
    "            count += 1\n",
    "            continue\n",
    "        elif '<I-ORG>' in words[count]:\n",
    "            words[count] = \"Reset\"\n",
    "            words[count-1] = \"Reset\"\n",
    "            count += 1\n",
    "            continue\n",
    "        elif '<E-ORG>' in words[count]:\n",
    "            words[count] = \"Reset\"\n",
    "            words[count-1] = \"Reset\"\n",
    "            count += 1\n",
    "            continue\n",
    "        elif '<I-LOC>' in words[count]:\n",
    "            words[count] = \"Reset\"\n",
    "            words[count-1] = \"Reset\"\n",
    "            count += 1\n",
    "            continue\n",
    "        elif '<E-LOC>' in words[count]:\n",
    "            words[count] = \"Reset\"\n",
    "            words[count-1] = \"Reset\"\n",
    "            count += 1\n",
    "            continue\n",
    "            \n",
    "        count += 1   \n",
    "        continue\n",
    "     \n",
    "    count = 0\n",
    "\n",
    "##\n",
    "# Die Funktion replaceLOC(ersetzung,praeposition,words,count) wird aufgerufen, wenn ein LOCATION-Tag entdeckt wurde\n",
    "# Sie überprüft, ob das Wort vor dem getaggten Wort (bzw. das Wort davor) in der entsprechenden Liste von Präpositionen enthalten ist\n",
    "# ist dies der Fall, wird das TAG ersetzt und das getaggte Wort sowie die Präposition auf \"Reset\" gesetzt \n",
    "# (alle auf \"Reset\" gesetzten Worte werden nicht in die neue Datei mit eingeschrieben)\n",
    "#\n",
    "# @param ersetzung String: Das Wort, mit dem ersetzt werden soll (z.B. \"irgendwo\")\n",
    "# @param praeposition Liste von Präpositionen, die jeweils einem Ersetzungswort zugeordnet werden kann \n",
    "# @param count Zähler (int), der anzeigt, an welcher Stelle im Text (words) sich die Iteration befindet\n",
    "# @param words Getaggter Text als Liste \n",
    "\n",
    "def replaceLOC(ersetzung,praeposition,words,count):\n",
    "    \n",
    "    if words[count-2] in praeposition:\n",
    "                            words[count] = ersetzung\n",
    "                            words[count-1] = \"Reset\"\n",
    "                            words[count-2] = \"Reset\"\n",
    "                            \n",
    "    elif words[count-3] in praeposition:\n",
    "                            words[count] = ersetzung\n",
    "                            words[count-1] = \"Reset\"\n",
    "                            words[count-2] = \"Reset\"\n",
    "                            words[count-3] = \"Reset\"\n",
    "    \n",
    "    elif words[count-2] in praelist_wechsel:\n",
    "                            words[count] = \"IRGENDWO(HIN)/(HER)\"\n",
    "                            words[count-1] = \"Reset\"\n",
    "                            words[count-2] = \"Reset\"\n",
    "                            \n",
    "    elif words[count-3] in praelist_wechsel:\n",
    "                            words[count] = \"IRGENDWO(HIN)/(HER)\"\n",
    "                            words[count-1] = \"Reset\"\n",
    "                            words[count-2] = \"Reset\"\n",
    "                            words[count-3] = \"Reset\"                        \n",
    "    else: \n",
    "                            pass\n",
    "\n",
    "##\n",
    "# Die Funktion replaceORGPER(ersetzung,praeposition,words,count) wird aufgerufen, wenn ein ORGANIZATION- oder ein PERSON-Tag entdeckt wurde\n",
    "# siehe Funktion replaceLOC, der Unterschied ist, dass die überprüften Präpositionen nicht gelöscht werden, da sie grammatikalisch benötigt werden \n",
    "# \n",
    "# @param ersetzung String: Das Wort, mit dem ersetzt werden soll (z.B. \"irgendwo\")\n",
    "# @param praeposition Liste von Präpositionen, die jeweils einem Ersetzungswort zugeordnet werden kann \n",
    "# @param count Zähler (int), der anzeigt, an welcher Stelle im Text (words) sich die Iteration befindet\n",
    "# @param words Getaggter Text als Liste\n",
    "                          \n",
    "def replaceORGPER(ersetzung,praeposition,words,count): \n",
    "\n",
    "    if words[count-2] in praeposition:\n",
    "                            words[count] = ersetzung\n",
    "                            words[count-1] = \"Reset\"\n",
    "    elif words[count-3] in praeposition:\n",
    "                            words[count] = ersetzung\n",
    "                            words[count-1] = \"Reset\"\n",
    "                            words[count-2] = \"Reset\"\n",
    "    else: \n",
    "                            pass\n",
    "                            \n",
    "# Listen mit Präpositionen, die grammatisch jeweils auf ein bestimmtes \"Ersetzungswort\" hinweisen \n",
    "                            \n",
    "praelist_irgendwo = [\"in\",\"um\", \"ums\", \"ab\", \"bei\", \"beim\", \"gegenüber\", \"nächst\", \"nahe\", \"vis-à-vis\", \"abseits\", \"außer\", \"außerhalb\", \"ausgangs\", \"beidseits\", \"beiderseits\", \"diesseits\", \"eingangs\", \"entlang\", \"fern\", \"fernab\", \"inmitten\", \"innerhalb\", \"jenseits\", \"längs\", \"längsseits\", \"links\", \"nördlich\", \"nordöstlich\", \"nordwestlich\", \"oberhalb\", \"östlich\", \"rechts\", \"seitlich\", \"seitwärts\", \"südlich\", \"südöstlich\", \"südwestlich\", \"unfern\", \"unterhalb\", \"unweit\", \"vis-à-vis\", \"westlich\", \"weitab\", \"zunächst\", \"zuseiten\",\"In\",\"Um\", \"Ums\", \"Ab\", \"Bei\", \"Beim\", \"Gegenüber\", \"Nächst\", \"Nahe\", \"Vis-à-vis\", \"Abseits\", \"Außer\", \"Außerhalb\", \"Ausgangs\", \"Beidseits\", \"Beiderseits\", \"Diesseits\", \"Eingangs\", \"Entlang\", \"Fern\", \"Fernab\", \"Inmitten\", \"Innerhalb\", \"Jenseits\", \"Längs\", \"Längsseits\", \"Links\", \"Nördlich\", \"Nordöstlich\", \"Nordwestlich\", \"Oberhalb\", \"Östlich\", \"Rechts\", \"Seitlich\", \"Seitwärts\", \"Südlich\", \"Südöstlich\", \"Südwestlich\", \"Unfern\", \"Unterhalb\", \"Unweit\", \"Vis-à-vis\", \"Westlich\", \"Weitab\", \"Zunächst\", \"Zuseiten\"]\n",
    "praelist_irgendwohin = [\"nach\", \"zu\", \"zum\", \"zur\", \"bis\", \"durch\", \"entlang\", \"gegen\", \"gen\", \"lang\",\"Nach\", \"Zu\", \"Zum\", \"Zur\", \"Bis\", \"Durch\", \"Entlang\", \"Gegen\", \"Gen\", \"Lang\"]\n",
    "praelist_irgendwoher = [\"aus\", \"von\", \"vom\",\"Aus\", \"Von\", \"Vom\"]\n",
    "praelist_wechsel = [\"am\",\"Am\",\"an\",\"An\",\"auf\",\"Auf\",\"hinter\",\"Hinter\",\"in\",\"In\",\"neben\",\"Neben\",\"Über\",\"über\",\"unter\",\"Unter\",\"Vor\",\"vor\",\"zwischen\",\"Zwischen\",\"im\",\"Im\"]\n",
    "\n",
    "praelist_irgendeine = [\"um\",\"Um\",\"ums\",\"Ums\",\"Ab\", \"ab\", \"bei\", \"beim\", \"Bei\",\"Beim\",\"Gegenüber\",\"gegenüber\", \"Nächst\",\"nächst\", \"nahe\",\"Nahe\", \"vis-à-vis\",\"Vis-à-vis\", \"Abseits\",\"abseits\", \"außer\", \"Außer\",\"Außerhalb\",\"außerhalb\", \"Ausgangs\",\"ausgangs\", \"Beidseits\",\"beidseits\", \"Beiderseits\",\"beiderseits\", \"diesseits\", \"Diesseits\",\"eingangs\", \"Eingangs\",\"Entlang\",\"entlang\", \"Fern\",\"fern\", \"Fernab\",\"fernab\", \"Inmitten\",\"inmitten\",\"Innerhalb\", \"innerhalb\", \"Jenseits\",\"jenseits\", \"Längs\",\"längs\", \"Längsseits\",\"längsseits\", \"Links\",\"links\", \"Nördlich\",\"nördlich\", \"Nordöstlich\",\"nordöstlich\", \"nordwestlich\",\"Nordwestlich\", \"oberhalb\", \"Oberhalb\",\"östlich\", \"Östlich\",\"Rechts\",\"rechts\", \"Seitlich\",\"seitlich\", \"seitwärts\",\"Seitwärts\",\"Südlich\", \"südlich\", \"Südöstlich\",\"südöstlich\", \"südwestlich\",\"Südwestlich\", \"unfern\", \"Unfern\",\"unterhalb\", \"Unterhalb\",\"unweit\", \"Unweit\",\"Westlich\", \"westlich\", \"weitab\",\"Weitab\",\"Zunächst\", \"zunächst\", \"zuseiten\", \"Zuseiten\"]\n",
    "praelist_irgendeiner = [\"aus\", \"von\", \"vom\", \"nach\", \"zu\", \"zum\", \"zur\", \"bis\", \"durch\", \"entlang\", \"gegen\", \"gen\", \"lang\",\"Aus\", \"Von\", \"Vom\", \"Nach\", \"Zu\", \"Zum\", \"Zur\", \"Bis\", \"Durch\", \"Entlang\", \"Gegen\", \"Gen\", \"Lang\"]        \n",
    "\n",
    "praelist_irgendwer = []\n",
    "praelist_irgendwem = [\"Mit\",\"mit\",\"Bei\",\"bei\",\"Zu\",\"zu\",\"von\",\"Von\"]\n",
    "praelist_irgendwen = [\"auf\",\"Auf\",\"An\", \"an\",\"für\",\"Für\"]\n",
    "\n",
    "# Artikelliste: \n",
    "artikel = [\"der\",\"Der\",\"die\",\"Die\",\"das\",\"Das\",\"ein\",\"Ein\",\"Eine\",\"eine\",\"des\", \"Des\",\"Dem\",\"dem\",\"den\", \"Den\",\"Eines\",\"eines\",\"einer\",\"Einer\",\"einem\",\"Einem\"]\n",
    "\n",
    "# Aufruf: \n",
    "#replaceNER(tagged)  \n"
   ]
  },
  {
   "cell_type": "code",
   "execution_count": null,
   "metadata": {},
   "outputs": [],
   "source": []
  },
  {
   "cell_type": "markdown",
   "metadata": {},
   "source": [
    "### 5. Anwenden der Regel-Funktionen am NER-Getaggten Text (eigentliche Satzreduktion)"
   ]
  },
  {
   "cell_type": "code",
   "execution_count": 71,
   "metadata": {
    "scrolled": true
   },
   "outputs": [
    {
     "name": "stdout",
     "output_type": "stream",
     "text": [
      "Sie pfiffen. IRGENDWER hat gerade im Unterhaus den Backstop erklärt, jenen Teil des britischen EU-Austrittsabkommens, der die politische Sprengkraft besitzt, einen geordneten Brexit zu verhindern. Einige Abgeordneten standen daraufhin auf, machten ihrem Unmut lautstark Luft. Welches Wort hat sie so aufgewühlt? Es war nicht der von ihnen abgelehnte Backstop, der vorsieht, dass IRGENDWO(HIN)/(HER) so lang in einer Zollunion mit der EU verbleiben muss, bis ein neues Handelsabkommen samt Garantie für eine offene Grenze IRGENDWO(HIN)/(HER) und der Republik vereinbart ist. Es war das Wort „souverän“. IRGENDWO(HIN)/(HER) so hat IRGENDWER nämlich betont, sei ein souveräner Staat, der IRGENDWOHER als verbleibender Teil der EU respektiert werden müsse. Die Pfiffe lassen erahnen, dass sich diese Abgeordneten nicht nur das Empire zurückwünschen, sondern auch die Eigenständigkeit IRGENDWO(HIN)/(HER) infrage stellen. Für sie zählt die Grüne Insel noch immer zum natürlichen Einflussgebiet des britischen Königreichs, obwohl ihr größerer Teil seit knapp hundert Jahren unabhängig ist. In der Irland-Frage kristallisiert sich also nicht nur das technische Problem des britischen EU-Austritts heraus. Mit ihr wird auch die emotionale und politische Problematik der britischen Debatte offenbar. Von einer unverantwortlichen Überheblichkeit getrieben, schwebt den Brexit-Hardlinern eine Zukunft vor, in der ihr Land ohne Rücksichtnahme auf andere weltweit agieren kann. Diese etwas naive Vorstellung schließt bilaterale Handelsverträge ein, IRGENDWO(HIN)/(HER) mit allen wichtigen Drittstaaten schließt und die nur noch einseitig Milch und Honig fließen lassen. So eine öffentlich verbreitete Illusion ist mittlerweile kein Einzelphänomen. Von IRGENDWOHER bis IRGENDWOHIN sind zahlreiche politische Führer davon überzeugt, dass nationale Interessen mit Brachialgewalt gegen alle anderen durchgesetzt werden müssen. Sie glauben an ein ökonomisches Nullsummenspiel, in dem sie nur dann gewinnen, wenn andere verlieren. Sie verabschieden sich von multilateralen Verträgen, die allen Seiten Vorteile gebracht haben. In ihrer Kalkulation negieren sie zum einen, dass viele Herausforderungen nur noch grenzüberschreitend in einer Staatengemeinschaft gelöst werden können – vom Klimaschutz über den fairen Handel bis hin zur Sicherheit. Sie blenden zum anderen auch die Gefahr aus, dass mit dieser Interessenpolitik lediglich neue Konfliktherde geschaffen werden. Wird das Karfreitagsabkommen aus dem Jahr IRGENDWANN , das nach IRGENDWANN Todesopfern den Bürgerkrieg IRGENDWO beendet hat, durch die Sturheit der Brexit-Hardliner und der in Folge notwendig werdenden Grenzkontrollen von britischer Seite aufgehoben, sind neue blutige Auseinandersetzungen durchaus wahrscheinlich. Beispielhaft IRGENWEN würde hier erneut aufgezeigt, wie kurz der Weg von einer rein nationalistischen Politik zu neuen blutigen Differenzen ist. IRGENDWO(HIN)/(HER) soll, wenn es das wirklich möchte, aus der EU austreten. Niemand hat das Recht, es daran zu hindern. Aber es muss vonseiten der 27 verbleibenden EU-Mitglieder sichergestellt werden, dass dieser Brexit ohne neue zwischenstaatliche Konflikte und ohne das Provozieren eines neuen Bürgerkriegs abgewickelt wird. Hätten die pfeifenden Abgeordneten im Unterhaus ein wenig historisches Gespür, würden sie sich darauf besinnen, dass ein solcher Konflikt dazu führen könnte, dass IRGENDWO(HIN)/(HER) letztlich auch noch den Norden IRGENDWO(HIN)/(HER) verlieren könnte. Denn wer glaubt, dass sich äußere Konfliktlinien nicht im Inneren fortsetzen, hat einen Teil der europäischen Geschichte nicht verstanden. „Wir sind im Moment alle Iren“, sagte der belgische Außenminister, IRGENDWER vergangene Woche bei einem Treffen mit Amtskollegen IRGENDWO Seine Äußerung war nicht bloß als Solidaritätsbekundung gemeint. Es liegt vielmehr in der Verantwortung aller restlichen EU-Regierungen, IRGENDWO(HIN)/(HER) IRGENDWO(HIN)/(HER) und IRGENDWO(HIN)/(HER) von den absehbaren Gefahren eines ungeordneten Brexit zu bewahren. E-Mails an: wolfgang.boehm@diepresse.com (\"Die Presse\", Print-Ausgabe, IRGENDWANN ) \n"
     ]
    }
   ],
   "source": [
    "#print(zeit(tagged))\n",
    "text_replaced = replaceNER(zeit(tagged))\n",
    "print(text_replaced)"
   ]
  },
  {
   "cell_type": "markdown",
   "metadata": {},
   "source": [
    "### 6. Ausgabe des Textes in eine eigene Datei"
   ]
  },
  {
   "cell_type": "code",
   "execution_count": 73,
   "metadata": {
    "scrolled": true
   },
   "outputs": [],
   "source": [
    "# save String into text file\n",
    "with open('replacedText.txt','w') as file:\n",
    "    file.write(text_replaced)"
   ]
  },
  {
   "cell_type": "code",
   "execution_count": null,
   "metadata": {},
   "outputs": [],
   "source": []
  }
 ],
 "metadata": {
  "kernelspec": {
   "display_name": "Python 3",
   "language": "python",
   "name": "python3"
  },
  "language_info": {
   "codemirror_mode": {
    "name": "ipython",
    "version": 3
   },
   "file_extension": ".py",
   "mimetype": "text/x-python",
   "name": "python",
   "nbconvert_exporter": "python",
   "pygments_lexer": "ipython3",
   "version": "3.7.1"
  }
 },
 "nbformat": 4,
 "nbformat_minor": 2
}
