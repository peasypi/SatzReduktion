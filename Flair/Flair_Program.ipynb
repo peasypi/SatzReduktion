{
 "cells": [
  {
   "cell_type": "markdown",
   "metadata": {},
   "source": [
    "# Satzreduktion - Programm\n"
   ]
  },
  {
   "cell_type": "markdown",
   "metadata": {},
   "source": [
    "## Was das Programm können muss:<br />\n",
    "1. Importieren aller notwendigen Libraries\n",
    "2. Einlesen eines Textes und Konvertieren des Textes in ein String\n",
    "3. NER Tool über den Text laufen lassen\n",
    "4. Umwandeln der erstellten Ersetzungsregeln in einzelne Funktionen\n",
    "5. Anwenden der Regel-Funktionen am NER-Getaggten Text (eigentliche Satzreduktion)\n",
    "6. Ausgabe des Textes in eine eigene Datei"
   ]
  },
  {
   "cell_type": "markdown",
   "metadata": {},
   "source": [
    "### 1. Import Libraries"
   ]
  },
  {
   "cell_type": "code",
   "execution_count": 2,
   "metadata": {},
   "outputs": [],
   "source": [
    "from flair.data import Sentence\n",
    "from flair.models import SequenceTagger"
   ]
  },
  {
   "cell_type": "markdown",
   "metadata": {},
   "source": [
    "### 2. Einlesen eines Textes und Konvertieren des Textes in ein String"
   ]
  },
  {
   "cell_type": "code",
   "execution_count": 7,
   "metadata": {},
   "outputs": [
    {
     "name": "stdout",
     "output_type": "stream",
     "text": [
      "Ich werde dich in der Schule vom Sportunterricht abholen. Ein spezielles Unternehmen soll die Hersteller von Polstermöbeln mit den Mehrwegverpackungen beliefern und sie später bei den Kunden wieder abholen. Da viele Eltern nicht möchten, dass ihre Kinder abends allein nach Hause gehen, holen sie sie von Konzerten, Festen und sonstigen Aktivitäten selbst ab. Holen Sie die bestellten Bücher ab, oder sollen wir sie Ihnen schicken? Das Taxi wird Sie punkt 8 Uhr im Hotel abholen. Auch die Berliner Zeitung hält Freikarten bereit, die in der Redaktion abgeholt werden können. Wenn wir aufstehen, ist der Müll schon längst abgeholt. Die Prospekte können Sie am Informationsstand abholen. Die Bücher sind endlich eingetroffen und können von den Lehrern in der Bibliothek abgeholt werden. Die Unterlagen können bei der Sekretärin abgeholt werden. Es ist eine große Unverschämtheit, von einer allein erziehenden Mutter zu verlangen, dass sie ihr Kind um 15 Uhr aus der Kita [Kindertagesstätte] abholen soll. Der Mann holte seine Frau jeden Abend von der Arbeit ab. Ich war am Anfang sehr nervös. Aber die Jury hat gleich gemeint: 'Hol dir deinen Zettel ab'\", erzählte Jonathan. Holst Du mir an meinem Geburtstag, einem Freitag, den neuen Führerschein bitte in der Verbandsgemeindeverwaltung ab? Die hat nämlich am Nachmittag geschlossen. Ich hole dich von der Arbeit/vom Training/vom Arzt ab. Die Flüchtlinge werden mit einem Militärflugzeug/per Militärflugzeug abgeholt. Ich werde dich rechtzeitig zum Konzert abholen. Beeile dich! Um acht hole ich dich zum Essen ab. In der folgenden Nacht holten echte Milizionäre in Lyon acht Männer aus ihren Wohnungen ab. Den einzigen Nicht-Juden unter ihnen sortierte der Chef des Kommandos, der 30-jährige Paul Touvier, aus. Seine Großmutter \"Sara\" Johanna Lewinski hat zwei Ecken weiter gewohnt, bis die Gestapo sie abholte und nach Auschwitz verschleppte. \"Am 11. November 1942 wurde ich als 17-jähriger Azubi abgeholt und ins Jugend-KZ nach Moringen verfrachtet.\", sagt Discher und seine Finger verkrampfen sich. In seinem Kopf wird das Drama aus den Jahren nach 1938 weitergespielt: Nachbarn werden aus ihren Wohnungen abgeholt, Juden drangsaliert und deportiert. Zu den prägendsten Kindheitserlebnissen gehörte die Verhaftung seines Vaters, der 1951 während einer Familienfeier von der stalinistischen sowjetischen Geheimpolizei abgeholt wurde. Sie müssen an der nächsten Kreuzung nach links abbiegen. Du biegst hinter dem Rathaus ab. Der Bus biegt in die Rhenaniastraße ab und fährt parallel zu den Bahngleisen. Der Unfall passierte, weil der Motorradfahrer abgebogen ist ohne zu blinken. Auf der Autobahn darf nur nach rechts abgebogen werden. Sie fahren bis zur Kirche, dort biegen Sie in die Hauptstraße ab. Beim Museum müssen Sie rechts abbiegen. Du musst hinter dem Bauernhaus nach links abbiegen und dann den steilen Weg nach oben klettern. Der Fahrer bog einfach in die Moorbreite ab, ohne auf die entgegen kommende Radfahrerin zu achten. 20 Kilometer südöstlich von Kapstadts Zentrum entfernt biegen wir von der Hauptstraße ab und sind sofort mittendrin im Gewimmel Khayelitshas. An der Kreuzung links abbiegen. Auf halbem Weg änderte er jedoch seine Reisepläne und bog in Richtung Italien ab. Der Junge ist mit seinem Fahrrad viel zu schnell in die Einfahrt abgebogen und dabei ausgerutscht. Ein kurzes Stück hinter der Kartause biegen Bach und Straße nach links ab. Der Weg biegt hinter der Tankstelle ab. Die Straße biegt nach Norden ab. Und wie bei vielen Vulkanausbrüchen geschah das Wunder: Die Lava bog ab. Sie verschonte San Vito. Dort biegt der Weg links ab. An einer kleinen Anhöhe biegt in einer kleinen Rechtskurve die Zufahrtsstraße nach links ab. Der Fahrradweg biegt vor dem Rathaus rechts ab. Bei der Station Vachendorf biegt der Weg ab zum Schloß Wildenwart. Da der Verkehr aus Richtung Ludwigshafen während der ebenfalls etwa sechsmonatigen Bauzeit sowieso nicht in Richtung der Neckarbrücken abbiegen kann, bietet sich die Sperrung auch der Gegenrichtung für Lkw an. DieserWeg, der an der Riedspitze von der Sandhofer Straße abbiegt und dann über landwirtschaftliche Wege zur Werft führt, wäre auch der Favorit von Friedhilde Willenbücher. Nach dem Abwaschen spülen wir das Geschirr mit klarem Wasser ab. Du musst dir die Füße abspülen, sie sind noch voller Sand. Ist das Auto eingestaubt, sollte es aber vor der Waschanlage abgespült werden, damit sich Brocken nicht in den Bürsten verfangen und den Lack zerkratzen. Du kannst den Apfel mit der Schale essen, er ist abgespült. Danach das Gesicht mit viel lauwarmem Wasser abspülen, um die Kräuteressenzen zu entfernen. Sardellenfilets unter fließendem Wasser abspülen, abtrocknen und klein schneiden. Ich muss mir noch die Füße abspülen. Der Regen spülte den feinen Staub von den Dächern und Bäumen wieder ab. Kaltes Wasser spült über 90 Prozent der Rückstände ab. Zoologen sagen, die massive Belästigung durch Wespen sei auf aggressive Futtersuche zurückzuführen gewesen. Die großen Völker hätten 2004 nicht genug zu fressen gefunden, nachdem häufiger Regen die Blattläuse abgespült hatte. Das neue Öl an der Küste stamme nicht von den ständigen Verlusten des Wracks auf dem Meeresgrund. Vielmehr seien die Klumpen von den vorher verseuchten Felsen abgespült worden und jetzt erneut an Land gekommen. Und kaum ist der Tagesschweiß in der Dusche abgespült, schickt Petrus einen Hagelschauer vom Himmel! Vor der Verlegung wird die Bodenstruktur der Trassen sondiert und mit Ankern und Sonargeräten abgefahren, um Schrott oder versenkte Munitionsreste ausfindig zu machen. Wir haben den Regenwasserkanal mit einer Kamera abgefahren und dabei zahlreiche Beschädigungen am Kanalrohr registriert. Die Sängerin und Musical-Darstellerin fährt total auf Autos ab - und tunt ihre Karren, bis nichts mehr geht! Petra fährt besonders auf sportliche blonde Männer ab. VW fährt voll auf Heidis Kurven ab. Volkswagen verpflichtet Werbe-Superstar Klum. \"Sie fährt richtig auf Buddhismus ab - und hat sich auch schon einen Bronze-Buddha gekauft\", erzählt ein Bekannter. Die Jugend fährt auf Skating und Bangee-Springen ab, die Älteren eher auf Wandern. Sie fährt auf romantische Sonnenuntergänge ab. \"Es ärgert mich nur, dass immer wieder auf diesen einen Typ abgefahren wird\", und der ist wie das Klischee, \"schlank, langhaarig, blond\". Wohl kaum eine andere deutsche Band polarisiert so sehr wie Pur. Entweder man fährt auf sie ab, oder man kann mit ihrer Musik überhaupt nichts anfangen. Cappuccino war seine Erfolgsmasche: Die Mädels fuhren darauf ab, nicht einfach zum schnöden \"Kaffee\" eingeladen zu werden. Wir fuhren beide sehr darauf ab, wie Tokio aussieht. Sabine nahm den Deckel vom Topf ab und rührte die Suppe um. Morgen können wir den Verband abnehmen. Barbaras gebrochenes Bein heilte gut, und in zwei Tagen sollte der Gipsverband abgenommen werden. Alle Bilder waren abgenommen und an die Wand gelehnt. Es wird gleich regnen, nimm schnell die Wäsche von der Leine ab! Tim versuchte in diesem Moment verzweifelt, seine Mutter anzurufen. Doch im Gutshaus nahm niemand ab. Die Fälle von häuslicher Gewalt haben im Vorjahresvergleich von 218 auf 187 abgenommen. Bei einer Reduzierung des Tempos nimmt zwar nicht die Anzahl der Unfälle ab, aber es gibt weniger schwere Verletzungen. Die Zahl der Weißstörche hat im Gebiet der Bundesrepublik von rund 7.500 Paaren auf 646 abgenommen. Der Osten Deutschlands wird weiter deutlich an Einwohnern verlieren. \"Nach unserer neuesten koordinierten Bevölkerungsvorausberechnung nimmt die Einwohnerzahl im Jahr 2020 auf zwölf Millionen ab\", sagte der Präsident des Statistischen Bundesamtes. Die Zahl der Mitglieder hat im Vergleich zum Vorjahr bis zu 50% abgenommen. Während an Rhein und Neckar Gewässerverunreinigungen zunahmen (am Rhein um 12 Prozent), nahmen sie am Bodensee um sechs Prozent ab. Die Wölfe haben in Kanada stark abgenommen. Doch schon bei weniger als 0,5 Promille nimmt die Fähigkeit zur Raumschätzung ab. Die Leistungen der Schüler/Sportler haben erheblich abgenommen. Ich habe zehn Kilo abgenommen. Wollen Sie abnehmen? Gewicht verlieren, ohne zu hungern? Zwei Kilo pro Woche wurden durchschnittlich von jedem Patienten abgenommen. Zwei Kilo sind schnell abgenommen. Alles fing wie gehabt an: Der Vorsitzende hieß den Gästen willkommen. \"Jeder isländische Autor fängt als Dichter an, die Dichtung ist mit uns seit über 1100 Jahren\", sagt Poet und Romancier Sjón. \"Mo' Money\" fängt als Komödie an: Johnny (Damon Wayans) und sein Bruder Seymour (Marlon Wayans) finden, dass man sich mit Arbeit den Tag versaut. \"To my Fairy Queen\" von Jilius Bergerijk fängt als unsäglicher Schlager an und wird dann sozusagen zertrümmert. Immer schräger werden die begleitenden und die Singstimme bald erschlagenden Dissonanzen, und immer schreiender muss sich die Stimme gegen diesen Angriff wehren. Mit 17 fing der Junge noch einmal an, kräftig zu wachsen. Die Häuser und die Felder fingen an zu brennen. Kleopatra wird nachgesagt, dass sie in Eselsmilch badete. Burkhard Frohn ist ein emanzipierter Vater, er badet und füttert das Baby. Clapton badet seine Finger jetzt in Hamamelis-Blütenwasser, weil das die Schwielen fördert. \"Ob wir im Rhein einmal wieder baden können\", sagt er nachdenklich. 622\tDie Wälder und Wiesen sind wieder grün, in den Seen rund um Rüdersdorf kann wieder bedenkenlos gebadet werden. Henriette ist jetzt sechzig und fliegt zum ersten Mal nach Rom, wo sie endlich in Kultur baden möchte. Michael Stich durfte immerhin baden in der leisen Zuneigung des Publikums. Hier badet ein Komponist in Wehmut - und nutzt für seine sentimentalische Erinnerungsarbeit barocke Vorlagen von Jean-Baptiste Lully. Bei den Profis wird in Optimismus gebadet. \"Nichts wird mehr sein wie früher\", erklärte etwa Jean-Marie Leblanc, Direktor der Tour de France kühn. Man muss beginnen, den Philosophen und Pädagogen Steiner historisch zu verstehen. Rathenow begann seinen Vortrag mit der Geschichte, wie er zum Schreiben gekommen sei. Der Schauspieler beginnt wie immer mit einer Beschimpfung des Publikums. Der Musikpädagoge und Chorleiter Ulrich Bauer begann dann die sachliche Arbeit der Versammlung mit einem fachlich profilierten Vortrag über \"Chorische Stimmbildung\". »Sehr geehrter Herr Bundesaußenminister«, begann Fischer etwas ungewohnt seine Rede und wandte sich damit an seinen Nachfolger Frank-Walter Steinmeier. Michael hat mit \"gut\" abgeschlossen. Ab 1. Mai können Arbeitgeber Zeitverträge mit neu eingestellten Beschäftigten oder mit jungen Leuten nach der Ausbildung abschließen. Haben Sie schon eine Unfallversicherung abgeschlossen? In den Jahren 1983 bis 1985 sind bundesweit mehr als zwei Millionen Lehrverträge abgeschlossen worden. Der Vertrag mit der Baufirma ist bereits abgeschlossen. Die Familie Brockhaus besitzt knapp 14% vom Kapital des Bibliographischen Instituts und will einen Vertrag mit Langenscheidt abschließen. Die beiden Staaten haben einen Waffenstillstand abgeschlossen. Wir haben ein Abkommen, uns in allen Notlagen gegenseitig zu helfen, abgeschlossen. Russland und Japan wollen bis zum Jahr 2000 einen Friedensvertrag abschließen. Diese Ausstellung ist eine Fachausstellung, bei der Hersteller und Händler Verträge miteinander abschließen. Die Handwerker haben die Reparaturarbeiten sehr schnell abgeschlossen. Die Staatsanwaltschaft in Erfurt hat ihre Ermittlungen noch nicht abgeschlossen. Jafari versetzte indes den Erwartungen einen Dämpfer, dass dieser Prozess schnell abgeschlossen werden könnte. Die Beweisaufnahme im Prozess um den Mord an den guatemaltekischen Weihbischof Gerardi ist abgeschlossen. Ein kurzer Epilog und ein sehr ausführlicher bibliographischer Essay schließen das Werk ab. Als Mitte der Sechzigerjahre Köln neben Frankfurt das bestorganisierte Bandensystem hatte, räumte die Polizei hart und konsequent auf. Er setzte seine Killer in Marsch, die hier in New York aufräumen sollten. Nach dem Rücktritt von Franz Schönhuber als Parteivorsitzender wird unter den \"Republikanern\" kräftig aufgeräumt und hinterher getreten. Mehrere Verbände der katholischen Kirche wollen durch Herausgabe eines Faltblatts mit Vorurteilen gegenüber Ausländern aufräumen. Die strafrechtliche Verurteilung einer Regierung würde mit der Vorstellung aufräumen, ein gewöhnliches Verbrechen eines Staatsoberhauptes sei irgendwie weniger kriminell, als das seines Untertans. Es ist schwierig, von heute auf morgen mit der Allmacht des Militärs aufzuräumen. Mit dieser Ansicht hat der Bundesgerichtshof durch gleich drei aktuelle Urteile aufgeräumt. \"Hat Norma was an der Lunge?\" \"Ich weiß es nicht, aber warten wir den Arzt ab.\" Umweltminister Matthiesen will mit dem Giftmüll aufräumen.\n"
     ]
    }
   ],
   "source": [
    "# convert text file into String\n",
    "with open('/Users/Nils/Projekte/Satz-Reduktion/GIT/Datensatz/Saetze_clean_flair.txt',\"r\") as myfile:\n",
    "   data = myfile.read().replace('\\n',' ')\n",
    "\n"
   ]
  },
  {
   "cell_type": "markdown",
   "metadata": {},
   "source": [
    "### 3. NER Tool über den Text laufen lassen"
   ]
  },
  {
   "cell_type": "markdown",
   "metadata": {},
   "source": [
    "Vielleicht besser die Sätze einzeln aufzuteilen und jeweils in eine Liste speichern?"
   ]
  },
  {
   "cell_type": "code",
   "execution_count": 9,
   "metadata": {},
   "outputs": [],
   "source": [
    "# make a sentence\n",
    "sentence = Sentence(data)\n",
    "\n",
    "#load the NER tagger\n",
    "tagger = SequenceTagger.load('de-ner')\n",
    "\n",
    "#run NER over sentence\n",
    "tagger.predict(sentence)\n",
    "\n",
    "#save tagged sentence into a String\n",
    "tagged = sentence.to_tagged_string()\n"
   ]
  },
  {
   "cell_type": "markdown",
   "metadata": {},
   "source": [
    "### 4. Umwandeln der erstellten Ersetzungsregeln in einzelne Funktionen"
   ]
  },
  {
   "cell_type": "markdown",
   "metadata": {},
   "source": [
    "### 5. Anwenden der Regel-Funktionen am NER-Getaggten Text (eigentliche Satzreduktion)"
   ]
  },
  {
   "cell_type": "markdown",
   "metadata": {},
   "source": [
    "### 6. Ausgabe des Textes in eine eigene Datei"
   ]
  },
  {
   "cell_type": "code",
   "execution_count": 10,
   "metadata": {},
   "outputs": [],
   "source": [
    "# save String into text file\n",
    "file = open('123.txt','w')\n",
    "file.writelines(tagged)"
   ]
  },
  {
   "cell_type": "code",
   "execution_count": null,
   "metadata": {},
   "outputs": [],
   "source": []
  }
 ],
 "metadata": {
  "kernelspec": {
   "display_name": "Python 3",
   "language": "python",
   "name": "python3"
  },
  "language_info": {
   "codemirror_mode": {
    "name": "ipython",
    "version": 3
   },
   "file_extension": ".py",
   "mimetype": "text/x-python",
   "name": "python",
   "nbconvert_exporter": "python",
   "pygments_lexer": "ipython3",
   "version": "3.7.1"
  }
 },
 "nbformat": 4,
 "nbformat_minor": 2
}
