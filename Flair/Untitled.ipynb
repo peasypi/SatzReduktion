{
 "cells": [
  {
   "cell_type": "markdown",
   "metadata": {},
   "source": [
    "# Tutorial 1: NLP Base Types"
   ]
  },
  {
   "cell_type": "code",
   "execution_count": 6,
   "metadata": {},
   "outputs": [],
   "source": [
    "# import des Flair Packages\n",
    "from flair.data import Sentence \n",
    "from flair.models import SequenceTagger"
   ]
  },
  {
   "cell_type": "markdown",
   "metadata": {},
   "source": [
    "## Creating a Sentence"
   ]
  },
  {
   "cell_type": "code",
   "execution_count": 7,
   "metadata": {},
   "outputs": [
    {
     "name": "stdout",
     "output_type": "stream",
     "text": [
      "Sentence: \"The grass is green .\" - 5 Tokens\n"
     ]
    }
   ],
   "source": [
    "# The sentence objects holds a sentence that we may want to embed or tag\n",
    "from flair.data import Sentence\n",
    "\n",
    "# Make a sentence object by passing a whitespace tokenized string\n",
    "sentence = Sentence('The grass is green .')\n",
    "\n",
    "# Print the object to see what's in there\n",
    "print(sentence)"
   ]
  },
  {
   "cell_type": "code",
   "execution_count": 8,
   "metadata": {},
   "outputs": [
    {
     "name": "stdout",
     "output_type": "stream",
     "text": [
      "Token: 3 is\n",
      "Token: 4 green\n"
     ]
    }
   ],
   "source": [
    "# using the token id\n",
    "print(sentence.get_token(3))\n",
    "# using the index itself \n",
    "print(sentence[3])"
   ]
  },
  {
   "cell_type": "code",
   "execution_count": 9,
   "metadata": {},
   "outputs": [
    {
     "name": "stdout",
     "output_type": "stream",
     "text": [
      "Token: 1 The\n",
      "Token: 2 grass\n",
      "Token: 3 is\n",
      "Token: 4 green\n",
      "Token: 5 .\n"
     ]
    }
   ],
   "source": [
    "for token in sentence:\n",
    "    print(token)"
   ]
  },
  {
   "cell_type": "markdown",
   "metadata": {},
   "source": [
    "## Tokenization"
   ]
  },
  {
   "cell_type": "code",
   "execution_count": 10,
   "metadata": {},
   "outputs": [
    {
     "name": "stdout",
     "output_type": "stream",
     "text": [
      "Sentence: \"The grass is green .\" - 5 Tokens\n"
     ]
    }
   ],
   "source": [
    "# Make a sentence object by passing an untokenized string and the 'use_tokenizer' flag\n",
    "sentence = Sentence('The grass is green.', use_tokenizer=True)\n",
    "\n",
    "# Print the object to see what's in there\n",
    "print(sentence)"
   ]
  },
  {
   "cell_type": "markdown",
   "metadata": {},
   "source": [
    "## Adding Tags to Tokens"
   ]
  },
  {
   "cell_type": "code",
   "execution_count": 11,
   "metadata": {},
   "outputs": [
    {
     "name": "stdout",
     "output_type": "stream",
     "text": [
      "The grass is green <color> .\n"
     ]
    }
   ],
   "source": [
    "# add a tag to a word in the sentence\n",
    "sentence[3].add_tag('ner', 'color')\n",
    "\n",
    "# print the sentence with all tags of this type\n",
    "print(sentence.to_tagged_string())"
   ]
  },
  {
   "cell_type": "code",
   "execution_count": 12,
   "metadata": {},
   "outputs": [
    {
     "name": "stdout",
     "output_type": "stream",
     "text": [
      "\"Token: 4 green\" is tagged as \"color\" with confidence score \"1.0\"\n"
     ]
    }
   ],
   "source": [
    "from flair.data import Label\n",
    "\n",
    "tag: Label = sentence[3].get_tag('ner')\n",
    "\n",
    "print(f'\"{sentence[3]}\" is tagged as \"{tag.value}\" with confidence score \"{tag.score}\"')"
   ]
  },
  {
   "cell_type": "markdown",
   "metadata": {},
   "source": [
    "## Adding Labels to Sentences"
   ]
  },
  {
   "cell_type": "code",
   "execution_count": 13,
   "metadata": {},
   "outputs": [],
   "source": [
    "sentence = Sentence('France is the current world cup winner.')\n",
    "\n",
    "# add a label to a sentence\n",
    "sentence.add_label('sports')\n",
    "\n",
    "# a sentence can also belong to multiple classes\n",
    "sentence.add_labels(['sports', 'world cup'])\n",
    "\n",
    "#you can also set the labels while initalizing the sentence\n",
    "sentence = Sentence('France is the current world cup winner.', labels=['sports', 'world cup'])"
   ]
  },
  {
   "cell_type": "code",
   "execution_count": 14,
   "metadata": {},
   "outputs": [
    {
     "name": "stdout",
     "output_type": "stream",
     "text": [
      "Sentence: \"France is the current world cup winner.\" - 7 Tokens\n",
      "sports (1.0)\n",
      "world cup (1.0)\n"
     ]
    }
   ],
   "source": [
    "sentence = Sentence('France is the current world cup winner.', labels=['sports', 'world cup'])\n",
    "\n",
    "print(sentence)\n",
    "for label in sentence.labels:\n",
    "    print(label)"
   ]
  },
  {
   "cell_type": "markdown",
   "metadata": {},
   "source": [
    "# Tutorial 2: Tagging your text"
   ]
  },
  {
   "cell_type": "code",
   "execution_count": 15,
   "metadata": {},
   "outputs": [],
   "source": [
    "from flair.models import SequenceTagger\n",
    "\n",
    "tagger = SequenceTagger.load('ner')"
   ]
  },
  {
   "cell_type": "code",
   "execution_count": null,
   "metadata": {},
   "outputs": [],
   "source": [
    "sentence = Sentence('Wenn Christian Wulff im Wahlkampf auf seine Leistungen verweist, dann fängt er hin und wieder mit dem Satz an: \"Ich sage es in aller Bescheidenheit\" .')\n",
    "\n",
    "#predict NER tags\n",
    "tagger.predict(sentence)\n",
    "\n",
    "#print sentence with predicted tags\n",
    "sentence = Sentence(sentence.to_tagged_string())\n",
    "\n",
    "tagger1 = SequenceTagger.load('de-pos') \n",
    "tagger1.predict(sentence)\n",
    "\n",
    "print(sentence.to_tagged_string())"
   ]
  },
  {
   "cell_type": "code",
   "execution_count": 25,
   "metadata": {},
   "outputs": [
    {
     "name": "stdout",
     "output_type": "stream",
     "text": [
      "Wenn <B-PER> der <I-PER> Christian <I-PER> Wulff <E-PER> im Wahlkampf auf seine Leistungen verweist, dann fängt er hin und wieder mit dem Satz an: \"Ich sage es in aller Bescheidenheit\" .\n",
      "Wenn <B-PER/SCONJ> der <I-PER/DET> Christian <I-PER/PROPN> Wulff <E-PER/PROPN> im <ADP> Wahlkampf <NOUN> auf <ADP> seine <DET> Leistungen <NOUN> verweist, <VERB> dann <ADV> fängt <VERB> er <PRON> hin <ADV> und <CCONJ> wieder <ADV> mit <ADP> dem <DET> Satz <NOUN> an: <ADP> \"Ich <PRON> sage <VERB> es <PRON> in <ADP> aller <PRON> Bescheidenheit\" <NOUN> . <PUNCT>\n"
     ]
    }
   ],
   "source": [
    "sentence1 = Sentence('Wenn der Christian Wulff im Wahlkampf auf seine Leistungen verweist, dann fängt er hin und wieder mit dem Satz an: \"Ich sage es in aller Bescheidenheit\" .')\n",
    "sentence2 = Sentence('Wenn der Christian Wulff im Wahlkampf auf seine Leistungen verweist, dann fängt er hin und wieder mit dem Satz an: \"Ich sage es in aller Bescheidenheit\" .')\n",
    "tagger_ner = SequenceTagger.load('ner')\n",
    "tagger_pos = SequenceTagger.load('de-pos')\n",
    "\n",
    "# predict NER tags\n",
    "tagger_ner.predict(sentence1)\n",
    "sentence_ner = sentence1.to_tagged_string()\n",
    "\n",
    "# predict PoS tags\n",
    "tagger_pos.predict(sentence1)\n",
    "sentence_pos = sentence1.to_tagged_string()\n",
    "\n",
    "print(sentence_ner)\n",
    "print(sentence_pos)\n"
   ]
  },
  {
   "cell_type": "code",
   "execution_count": 27,
   "metadata": {},
   "outputs": [
    {
     "name": "stdout",
     "output_type": "stream",
     "text": [
      "Der <DET> Affe <NOUN> lebt <VERB> in <ADP> dem <DET> Zoo. <NOUN> Der <DET> Elefant <NOUN> lebt <VERB> in <ADP> der <DET> Savanne. <NOUN>\n"
     ]
    }
   ],
   "source": [
    "sentence = Sentence('Der Affe lebt in dem Zoo. Der Elefant lebt in der Savanne.')\n",
    "\n",
    "tagger = SequenceTagger.load('de-pos')\n",
    "\n",
    "tagger.predict(sentence)\n",
    "print(sentence.to_tagged_string())"
   ]
  },
  {
   "cell_type": "code",
   "execution_count": null,
   "metadata": {},
   "outputs": [],
   "source": []
  }
 ],
 "metadata": {
  "kernelspec": {
   "display_name": "Python 3",
   "language": "python",
   "name": "python3"
  },
  "language_info": {
   "codemirror_mode": {
    "name": "ipython",
    "version": 3
   },
   "file_extension": ".py",
   "mimetype": "text/x-python",
   "name": "python",
   "nbconvert_exporter": "python",
   "pygments_lexer": "ipython3",
   "version": "3.7.1"
  }
 },
 "nbformat": 4,
 "nbformat_minor": 2
}
